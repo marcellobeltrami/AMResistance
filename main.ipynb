{
 "cells": [
  {
   "cell_type": "markdown",
   "metadata": {},
   "source": [
    "## Antimicrobial resistance prediction\n",
    "\n",
    "Given sequence of nucleotides predict if they are likely to be a pathogenic islands for a bacteria or not.\n",
    "\n",
    "Input: Sequence. \n",
    "\n",
    "Output: SequenceID Sequence Subtype Class Subclass Accuracy %  \n",
    "\n",
    "This is just a test run to develop encoding methods and model architecture. For the actual training, download all the entries and \"Mix and match the different subclasses\" to have a good coverages. \n",
    "https://www.ncbi.nlm.nih.gov/pathogens/refgene/#"
   ]
  },
  {
   "cell_type": "code",
   "execution_count": 1,
   "metadata": {},
   "outputs": [
    {
     "name": "stderr",
     "output_type": "stream",
     "text": [
      "2025-09-18 23:24:57.304512: I tensorflow/core/util/port.cc:153] oneDNN custom operations are on. You may see slightly different numerical results due to floating-point round-off errors from different computation orders. To turn them off, set the environment variable `TF_ENABLE_ONEDNN_OPTS=0`.\n",
      "2025-09-18 23:24:57.511290: I tensorflow/core/platform/cpu_feature_guard.cc:210] This TensorFlow binary is optimized to use available CPU instructions in performance-critical operations.\n",
      "To enable the following instructions: AVX_VNNI, in other operations, rebuild TensorFlow with the appropriate compiler flags.\n"
     ]
    }
   ],
   "source": [
    "import tensorflow as tf\n",
    "import numpy as np\n",
    "import matplotlib.pyplot as plt\n",
    "import pandas as pd"
   ]
  },
  {
   "cell_type": "markdown",
   "metadata": {},
   "source": [
    "## Pre-processing"
   ]
  },
  {
   "cell_type": "code",
   "execution_count": 2,
   "metadata": {},
   "outputs": [
    {
     "name": "stdout",
     "output_type": "stream",
     "text": [
      "  RefSeq nucleotide                                Sequence nucleotide\n",
      "0       NC_000913.3  AAATTGAAGAGTTTGATCATGGCTCAGATTGAACGCTGGCGGCAGG...\n",
      "1       NC_000913.3  AAATTGAAGAGTTTGATCATGGCTCAGATTGAACGCTGGCGGCAGG...\n",
      "2       NC_000913.3  AAATTGAAGAGTTTGATCATGGCTCAGATTGAACGCTGGCGGCAGG...\n",
      "3       NC_000913.3  AAATTGAAGAGTTTGATCATGGCTCAGATTGAACGCTGGCGGCAGG...\n",
      "4       NC_000913.3  AAATTGAAGAGTTTGATCATGGCTCAGATTGAACGCTGGCGGCAGG...\n",
      "   RefSeq protein                                   Sequence protein\n",
      "0  WP_003703066.1  MLIKSEYKPRMLPKEEQVKKPMTSNGRISFVLMAMAVLFACLIARG...\n",
      "1  WP_025297907.1  MENTVFDVRHTFQLTSTELRELQTLLAVVYGGDFSPEDWDHALGGL...\n",
      "2  WP_063839881.1  MKDRSHDDSMAEVCRNTSENHWLKTDYRTLFRLCPDGRIERENDPD...\n",
      "3  WP_071224044.1  MNHRKGNEPTAAALMELHVLAMFTHDGNMQIRTINEPWPGEELAPR...\n",
      "4  WP_004918308.1  MGIEYRSLHTSQLTLSEKEALYDLLIEGFEGDFSHDDFAHTLGGMH...\n"
     ]
    }
   ],
   "source": [
    "from Bio import SeqIO\n",
    "\n",
    "def fasta_to_dataframe(fasta_file, cols=['RefSeq nucleotide', 'Sequence nucleotide']):\n",
    "    # Parse the fasta file and extract the records\n",
    "    records = list(SeqIO.parse(fasta_file, \"fasta\"))\n",
    "    \n",
    "    # Create a dictionary with ID and Sequence\n",
    "    ids = [record.id.split(\":\")[0] for record in records]\n",
    "    sequences = [str(record.seq) for record in records]\n",
    "    data = {\n",
    "        cols[0]: ids,\n",
    "        cols[1]: sequences\n",
    "    }\n",
    "    \n",
    "    # Convert the dictionary to a pandas DataFrame\n",
    "    return pd.DataFrame(data)\n",
    "\n",
    "# Example usage\n",
    "nucleotide_fasta = './complete_dataset/data/nucleotide.fna'\n",
    "AA_fasta = './complete_dataset/data/proteins.faa'\n",
    "\n",
    "nucleotide_df = fasta_to_dataframe(nucleotide_fasta)\n",
    "AA_df = fasta_to_dataframe(AA_fasta, cols=['RefSeq protein', 'Sequence protein'])\n",
    "\n",
    "print(nucleotide_df.head())\n",
    "print(AA_df.head())"
   ]
  },
  {
   "cell_type": "code",
   "execution_count": 3,
   "metadata": {},
   "outputs": [],
   "source": [
    "general_df = pd.read_csv('./complete_dataset/AMR_genes.tsv',sep='\\t')\n",
    "general_df = general_df.dropna()\n",
    "general_df = pd.merge(general_df, nucleotide_df, on='RefSeq nucleotide', how='inner')\n",
    "general_df = pd.merge(general_df, AA_df, on='RefSeq protein', how='inner')\n"
   ]
  },
  {
   "cell_type": "code",
   "execution_count": 4,
   "metadata": {},
   "outputs": [
    {
     "data": {
      "text/plain": [
       "['label_encoder.pkl']"
      ]
     },
     "execution_count": 4,
     "metadata": {},
     "output_type": "execute_result"
    }
   ],
   "source": [
    "from lib.encoding import prepare_data\n",
    "\n",
    "# --------------------------\n",
    "# Example usage\n",
    "# --------------------------\n",
    "# Assuming general_df is your dataframe\n",
    "max_len = 200\n",
    "X_padded, y, label_encoder = prepare_data(df=general_df, max_len=max_len)\n",
    "num_classes = len(label_encoder.classes_)\n",
    "\n",
    "\n",
    "import joblib\n",
    "joblib.dump(label_encoder, \"label_encoder.pkl\")"
   ]
  },
  {
   "cell_type": "code",
   "execution_count": null,
   "metadata": {},
   "outputs": [],
   "source": [
    "from lib.model import ResistanceModel\n",
    "# Build & train model\n",
    "trainer = ResistanceModel(max_len=max_len, num_classes=num_classes, model_type=\"lstm\")\n",
    "history = trainer.train(X_padded, y, epochs=10, batch_size=32, validation_split=0.2)\n",
    "\n",
    "# Make predictions\n",
    "preds = trainer.predict(X_padded[:5])\n",
    "predicted_classes = label_encoder.inverse_transform(preds.argmax(axis=1))\n",
    "print(\"Predicted classes:\", predicted_classes)\n",
    "\n",
    "trainer.model.save(\"./model/resistance_model.h5\")\n"
   ]
  },
  {
   "cell_type": "code",
   "execution_count": null,
   "metadata": {},
   "outputs": [],
   "source": [
    "trainer = ResistanceModel(max_len=max_len, num_classes=num_classes, model_type=\"lstm\")\n",
    "\n",
    "trainer.model.save(\"./model/resistance_model.keras\")\n"
   ]
  },
  {
   "cell_type": "code",
   "execution_count": null,
   "metadata": {},
   "outputs": [
    {
     "name": "stdout",
     "output_type": "stream",
     "text": [
      "\u001b[1m1/1\u001b[0m \u001b[32m━━━━━━━━━━━━━━━━━━━━\u001b[0m\u001b[37m\u001b[0m \u001b[1m0s\u001b[0m 344ms/step\n",
      "Predictions: ['LIPOPEPTIDE' 'QUINOLONE']\n"
     ]
    },
    {
     "name": "stderr",
     "output_type": "stream",
     "text": [
      "2025-09-18 23:27:04.528334: E tensorflow/core/util/util.cc:131] oneDNN supports DT_BOOL only on platforms with AVX-512. Falling back to the default Eigen-based implementation if present.\n"
     ]
    }
   ],
   "source": [
    "from tensorflow.keras.models import load_model\n",
    "import joblib\n",
    "from lib.encoding import GeneEncoder\n",
    "\n",
    "# Load model + label encoder\n",
    "model = load_model(\"./model/resistance_model.keras\")\n",
    "label_encoder = joblib.load(\"./model/label_encoder.pkl\")\n",
    "\n",
    "# Reuse encoder\n",
    "encoder = GeneEncoder()\n",
    "\n",
    "# Example new sequences\n",
    "new_sequences = [\n",
    "    \"MDEKELIERAGGPVTRGR\",   # looks like aminoglycoside\n",
    "    \"MAYEFCEIGESNEYIILA\"    # looks like beta-lactam\n",
    "]\n",
    "\n",
    "# Encode + pad to same max_len used in training\n",
    "max_len = 200  # ⚠️ must match training\n",
    "X_new = encoder.encode_protein_batch(new_sequences, max_len=max_len)\n",
    "\n",
    "# Predict\n",
    "preds = model.predict(X_new)\n",
    "predicted_classes = label_encoder.inverse_transform(preds.argmax(axis=1))\n",
    "\n",
    "print(\"Predictions:\", predicted_classes)\n"
   ]
  }
 ],
 "metadata": {
  "kernelspec": {
   "display_name": "ml",
   "language": "python",
   "name": "python3"
  },
  "language_info": {
   "codemirror_mode": {
    "name": "ipython",
    "version": 3
   },
   "file_extension": ".py",
   "mimetype": "text/x-python",
   "name": "python",
   "nbconvert_exporter": "python",
   "pygments_lexer": "ipython3",
   "version": "3.12.11"
  }
 },
 "nbformat": 4,
 "nbformat_minor": 2
}
