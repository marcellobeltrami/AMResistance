{
 "cells": [
  {
   "cell_type": "markdown",
   "metadata": {},
   "source": [
    "## Antimicrobial resistance prediction\n",
    "\n",
    "Given sequence of nucleotides predict if they are likely to be a pathogenic islands for a bacteria or not.\n",
    "\n",
    "Input: Sequence. \n",
    "\n",
    "Output: SequenceID Sequence Subtype Class Subclass Accuracy %  \n",
    "\n",
    "This is just a test run to develop encoding methods and model architecture. For the actual training, download all the entries and \"Mix and match the different subclasses\" to have a good coverages. \n",
    "https://www.ncbi.nlm.nih.gov/pathogens/refgene/#"
   ]
  },
  {
   "cell_type": "code",
   "execution_count": 8,
   "metadata": {},
   "outputs": [],
   "source": [
    "import tensorflow as tf\n",
    "import numpy as np\n",
    "import matplotlib.pyplot as plt\n",
    "import pandas as pd"
   ]
  },
  {
   "cell_type": "markdown",
   "metadata": {},
   "source": [
    "## Pre-processing"
   ]
  },
  {
   "cell_type": "code",
   "execution_count": 9,
   "metadata": {},
   "outputs": [
    {
     "name": "stdout",
     "output_type": "stream",
     "text": [
      "  RefSeq nucleotide                                Sequence nucleotide\n",
      "0       NC_000913.3  AAATTGAAGAGTTTGATCATGGCTCAGATTGAACGCTGGCGGCAGG...\n",
      "1       NC_000913.3  AAATTGAAGAGTTTGATCATGGCTCAGATTGAACGCTGGCGGCAGG...\n",
      "2       NC_000913.3  AAATTGAAGAGTTTGATCATGGCTCAGATTGAACGCTGGCGGCAGG...\n",
      "3       NC_000913.3  AAATTGAAGAGTTTGATCATGGCTCAGATTGAACGCTGGCGGCAGG...\n",
      "4       NC_000913.3  AAATTGAAGAGTTTGATCATGGCTCAGATTGAACGCTGGCGGCAGG...\n",
      "   RefSeq protein                                   Sequence protein\n",
      "0  WP_003703066.1  MLIKSEYKPRMLPKEEQVKKPMTSNGRISFVLMAMAVLFACLIARG...\n",
      "1  WP_025297907.1  MENTVFDVRHTFQLTSTELRELQTLLAVVYGGDFSPEDWDHALGGL...\n",
      "2  WP_063839881.1  MKDRSHDDSMAEVCRNTSENHWLKTDYRTLFRLCPDGRIERENDPD...\n",
      "3  WP_071224044.1  MNHRKGNEPTAAALMELHVLAMFTHDGNMQIRTINEPWPGEELAPR...\n",
      "4  WP_004918308.1  MGIEYRSLHTSQLTLSEKEALYDLLIEGFEGDFSHDDFAHTLGGMH...\n"
     ]
    }
   ],
   "source": [
    "from Bio import SeqIO\n",
    "\n",
    "def fasta_to_dataframe(fasta_file, cols=['RefSeq nucleotide', 'Sequence nucleotide']):\n",
    "    # Parse the fasta file and extract the records\n",
    "    records = list(SeqIO.parse(fasta_file, \"fasta\"))\n",
    "    \n",
    "    # Create a dictionary with ID and Sequence\n",
    "    ids = [record.id.split(\":\")[0] for record in records]\n",
    "    sequences = [str(record.seq) for record in records]\n",
    "    data = {\n",
    "        cols[0]: ids,\n",
    "        cols[1]: sequences\n",
    "    }\n",
    "    \n",
    "    # Convert the dictionary to a pandas DataFrame\n",
    "    return pd.DataFrame(data)\n",
    "\n",
    "# Example usage\n",
    "nucleotide_fasta = './complete_dataset/data/nucleotide.fna'\n",
    "AA_fasta = './complete_dataset/data/proteins.faa'\n",
    "\n",
    "nucleotide_df = fasta_to_dataframe(nucleotide_fasta)\n",
    "AA_df = fasta_to_dataframe(AA_fasta, cols=['RefSeq protein', 'Sequence protein'])\n",
    "\n",
    "print(nucleotide_df.head())\n",
    "print(AA_df.head())"
   ]
  },
  {
   "cell_type": "code",
   "execution_count": 10,
   "metadata": {},
   "outputs": [],
   "source": [
    "general_df = pd.read_csv('./complete_dataset/AMR_genes.tsv',sep='\\t')\n",
    "general_df = general_df.dropna()\n",
    "general_df = pd.merge(general_df, nucleotide_df, on='RefSeq nucleotide', how='inner')\n",
    "general_df = pd.merge(general_df, AA_df, on='RefSeq protein', how='inner')\n"
   ]
  },
  {
   "cell_type": "code",
   "execution_count": 11,
   "metadata": {},
   "outputs": [
    {
     "data": {
      "text/plain": [
       "['label_encoder.pkl']"
      ]
     },
     "execution_count": 11,
     "metadata": {},
     "output_type": "execute_result"
    }
   ],
   "source": [
    "from lib.encoding import prepare_data\n",
    "\n",
    "# --------------------------\n",
    "# Example usage\n",
    "# --------------------------\n",
    "# Assuming general_df is your dataframe\n",
    "max_len = 200\n",
    "X_padded, y, label_encoder = prepare_data(df=general_df, max_len=max_len)\n",
    "num_classes = len(label_encoder.classes_)\n",
    "\n",
    "\n",
    "import joblib\n",
    "joblib.dump(label_encoder, \"label_encoder.pkl\")"
   ]
  },
  {
   "cell_type": "code",
   "execution_count": null,
   "metadata": {},
   "outputs": [
    {
     "name": "stdout",
     "output_type": "stream",
     "text": [
      "Epoch 1/10\n",
      "\u001b[1m336/336\u001b[0m \u001b[32m━━━━━━━━━━━━━━━━━━━━\u001b[0m\u001b[37m\u001b[0m \u001b[1m81s\u001b[0m 224ms/step - accuracy: 0.9088 - loss: 0.3772 - val_accuracy: 0.3741 - val_loss: 3.4024\n",
      "Epoch 2/10\n",
      "\u001b[1m336/336\u001b[0m \u001b[32m━━━━━━━━━━━━━━━━━━━━\u001b[0m\u001b[37m\u001b[0m \u001b[1m72s\u001b[0m 215ms/step - accuracy: 0.9730 - loss: 0.0748 - val_accuracy: 0.3562 - val_loss: 5.1824\n",
      "Epoch 3/10\n",
      "\u001b[1m336/336\u001b[0m \u001b[32m━━━━━━━━━━━━━━━━━━━━\u001b[0m\u001b[37m\u001b[0m \u001b[1m70s\u001b[0m 207ms/step - accuracy: 0.9757 - loss: 0.0612 - val_accuracy: 0.3571 - val_loss: 5.9095\n",
      "Epoch 4/10\n",
      "\u001b[1m336/336\u001b[0m \u001b[32m━━━━━━━━━━━━━━━━━━━━\u001b[0m\u001b[37m\u001b[0m \u001b[1m73s\u001b[0m 217ms/step - accuracy: 0.9771 - loss: 0.0570 - val_accuracy: 0.3567 - val_loss: 6.5525\n",
      "Epoch 5/10\n",
      "\u001b[1m336/336\u001b[0m \u001b[32m━━━━━━━━━━━━━━━━━━━━\u001b[0m\u001b[37m\u001b[0m \u001b[1m80s\u001b[0m 237ms/step - accuracy: 0.9774 - loss: 0.0547 - val_accuracy: 0.3556 - val_loss: 6.4038\n",
      "Epoch 6/10\n",
      "\u001b[1m336/336\u001b[0m \u001b[32m━━━━━━━━━━━━━━━━━━━━\u001b[0m\u001b[37m\u001b[0m \u001b[1m74s\u001b[0m 221ms/step - accuracy: 0.9787 - loss: 0.0522 - val_accuracy: 0.3565 - val_loss: 6.7980\n",
      "Epoch 7/10\n",
      "\u001b[1m336/336\u001b[0m \u001b[32m━━━━━━━━━━━━━━━━━━━━\u001b[0m\u001b[37m\u001b[0m \u001b[1m79s\u001b[0m 236ms/step - accuracy: 0.9786 - loss: 0.0513 - val_accuracy: 0.3562 - val_loss: 6.4362\n",
      "Epoch 8/10\n",
      "\u001b[1m336/336\u001b[0m \u001b[32m━━━━━━━━━━━━━━━━━━━━\u001b[0m\u001b[37m\u001b[0m \u001b[1m92s\u001b[0m 274ms/step - accuracy: 0.9787 - loss: 0.0514 - val_accuracy: 0.2902 - val_loss: 6.4231\n",
      "Epoch 9/10\n",
      "\u001b[1m 22/336\u001b[0m \u001b[32m━\u001b[0m\u001b[37m━━━━━━━━━━━━━━━━━━━\u001b[0m \u001b[1m1:16\u001b[0m 244ms/step - accuracy: 0.9860 - loss: 0.0385"
     ]
    }
   ],
   "source": [
    "from lib.model import ResistanceModel\n",
    "# Build & train model\n",
    "trainer = ResistanceModel(max_len=max_len, num_classes=num_classes, model_type=\"lstm\")\n",
    "history = trainer.train(X_padded, y, epochs=10, batch_size=150, validation_split=0.2)\n",
    "\n",
    "# Make predictions\n",
    "preds = trainer.predict(X_padded[:5])\n",
    "predicted_classes = label_encoder.inverse_transform(preds.argmax(axis=1))\n",
    "print(\"Predicted classes:\", predicted_classes)\n",
    "\n",
    "trainer.model.save(\"./model/resistance_model.h5\")\n"
   ]
  },
  {
   "cell_type": "code",
   "execution_count": null,
   "metadata": {},
   "outputs": [],
   "source": [
    "trainer = ResistanceModel(max_len=max_len, num_classes=num_classes, model_type=\"lstm\")\n",
    "\n",
    "trainer.model.save(\"./model/resistance_model.keras\")\n"
   ]
  },
  {
   "cell_type": "code",
   "execution_count": null,
   "metadata": {},
   "outputs": [
    {
     "name": "stdout",
     "output_type": "stream",
     "text": [
      "\u001b[1m1/1\u001b[0m \u001b[32m━━━━━━━━━━━━━━━━━━━━\u001b[0m\u001b[37m\u001b[0m \u001b[1m0s\u001b[0m 344ms/step\n",
      "Predictions: ['LIPOPEPTIDE' 'QUINOLONE']\n"
     ]
    },
    {
     "name": "stderr",
     "output_type": "stream",
     "text": [
      "2025-09-18 23:27:04.528334: E tensorflow/core/util/util.cc:131] oneDNN supports DT_BOOL only on platforms with AVX-512. Falling back to the default Eigen-based implementation if present.\n"
     ]
    }
   ],
   "source": [
    "from tensorflow.keras.models import load_model\n",
    "import joblib\n",
    "from lib.encoding import GeneEncoder\n",
    "\n",
    "# Load model + label encoder\n",
    "model = load_model(\"./model/resistance_model.keras\")\n",
    "label_encoder = joblib.load(\"./model/label_encoder.pkl\")\n",
    "\n",
    "# Reuse encoder\n",
    "encoder = GeneEncoder()\n",
    "\n",
    "# Example new sequences\n",
    "new_sequences = [\n",
    "    \"MDEKELIERAGGPVTRGR\",   # looks like aminoglycoside\n",
    "    \"MAYEFCEIGESNEYIILA\"    # looks like beta-lactam\n",
    "]\n",
    "\n",
    "# Encode + pad to same max_len used in training\n",
    "max_len = 200  # ⚠️ must match training\n",
    "X_new = encoder.encode_protein_batch(new_sequences, max_len=max_len)\n",
    "\n",
    "# Predict\n",
    "preds = model.predict(X_new)\n",
    "predicted_classes = label_encoder.inverse_transform(preds.argmax(axis=1))\n",
    "\n",
    "print(\"Predictions:\", predicted_classes)\n"
   ]
  }
 ],
 "metadata": {
  "kernelspec": {
   "display_name": "ml",
   "language": "python",
   "name": "python3"
  },
  "language_info": {
   "codemirror_mode": {
    "name": "ipython",
    "version": 3
   },
   "file_extension": ".py",
   "mimetype": "text/x-python",
   "name": "python",
   "nbconvert_exporter": "python",
   "pygments_lexer": "ipython3",
   "version": "3.12.11"
  }
 },
 "nbformat": 4,
 "nbformat_minor": 2
}
